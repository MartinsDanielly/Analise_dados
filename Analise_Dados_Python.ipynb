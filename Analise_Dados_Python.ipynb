{
  "nbformat": 4,
  "nbformat_minor": 0,
  "metadata": {
    "colab": {
      "provenance": [],
      "mount_file_id": "12fsbWPSl1SDFZF24EtYl6okRHxepZMeP",
      "authorship_tag": "ABX9TyMcqQHXdQIkbqCF1ma3KVSm",
      "include_colab_link": true
    },
    "kernelspec": {
      "name": "python3",
      "display_name": "Python 3"
    },
    "language_info": {
      "name": "python"
    }
  },
  "cells": [
    {
      "cell_type": "markdown",
      "metadata": {
        "id": "view-in-github",
        "colab_type": "text"
      },
      "source": [
        "<a href=\"https://colab.research.google.com/github/MartinsDanielly/Analise_dados/blob/main/Analise_Dados_Python.ipynb\" target=\"_parent\"><img src=\"https://colab.research.google.com/assets/colab-badge.svg\" alt=\"Open In Colab\"/></a>"
      ]
    },
    {
      "cell_type": "code",
      "source": [
        "!pip install pandas"
      ],
      "metadata": {
        "colab": {
          "base_uri": "https://localhost:8080/"
        },
        "id": "mevKs94f_GQ3",
        "outputId": "2e19df97-51ce-4232-caaa-60fffa6c746b"
      },
      "execution_count": null,
      "outputs": [
        {
          "output_type": "stream",
          "name": "stdout",
          "text": [
            "Requirement already satisfied: pandas in /usr/local/lib/python3.10/dist-packages (1.5.3)\n",
            "Requirement already satisfied: python-dateutil>=2.8.1 in /usr/local/lib/python3.10/dist-packages (from pandas) (2.8.2)\n",
            "Requirement already satisfied: pytz>=2020.1 in /usr/local/lib/python3.10/dist-packages (from pandas) (2022.7.1)\n",
            "Requirement already satisfied: numpy>=1.21.0 in /usr/local/lib/python3.10/dist-packages (from pandas) (1.22.4)\n",
            "Requirement already satisfied: six>=1.5 in /usr/local/lib/python3.10/dist-packages (from python-dateutil>=2.8.1->pandas) (1.16.0)\n"
          ]
        }
      ]
    },
    {
      "cell_type": "code",
      "source": [
        "import pandas as pd\n",
        "\n",
        "\n",
        "\n",
        "# Visualizar as primeiras linhas dos dados\n",
        "print(dados.head()Pasta1.csv)\n",
        "\n",
        "# Verificar o número de linhas e colunas dos dados\n",
        "print('Número de linhas:', dados.shape[0])\n",
        "print('Número de colunas:', dados.shape[1])\n",
        "\n",
        "# Verificar estatísticas básicas dos dados\n",
        "print(dados.describe())\n",
        "\n",
        "# Calcular a média de uma coluna específica\n",
        "media = dados['nome_da_coluna'].mean()\n",
        "print('Média:', media)\n",
        "\n",
        "# Calcular a mediana de uma coluna específica\n",
        "mediana = dados['nome_da_coluna'].median()\n",
        "print('Mediana:', mediana)\n",
        "\n",
        "# Calcular a moda de uma coluna específica\n",
        "moda = dados['nome_da_coluna'].mode()\n",
        "print('Moda:', moda)\n",
        "\n",
        "# Calcular a correlação entre duas colunas\n",
        "correlacao = dados['nome_da_coluna1'].corr(dados['nome_da_coluna2'])\n",
        "print('Correlação:', correlacao)"
      ],
      "metadata": {
        "id": "ENHI12mn3Hg8"
      },
      "execution_count": null,
      "outputs": []
    },
    {
      "cell_type": "code",
      "source": [],
      "metadata": {
        "id": "8XJX6weEB20m"
      },
      "execution_count": null,
      "outputs": []
    }
  ]
}